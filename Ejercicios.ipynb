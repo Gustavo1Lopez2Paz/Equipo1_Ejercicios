{
 "cells": [
  {
   "attachments": {},
   "cell_type": "markdown",
   "metadata": {},
   "source": [
    "# Ejercicios\n",
    "\n",
    "## Propietarios\n",
    "\n",
    "- Roberto Barrera Rojo (230110946@itsoeh.edu.mx)\n",
    "\n",
    "- Andrea Jacob Salas (230110449@itsoeh.edu.mx)\n",
    "\n",
    "- Kleyder Murillo Martinez (230110626@itsoeh.edu.mx)\n",
    "\n",
    "- Gustavo López Paz (230110531@itsoeh.edu.mx)\n",
    "\n",
    "- Melanie Santiago Reséndiz (230110616@itsoeh.edu.mx)"
   ]
  },
  {
   "attachments": {},
   "cell_type": "markdown",
   "metadata": {},
   "source": [
    "## Ejercicio 3"
   ]
  },
  {
   "attachments": {},
   "cell_type": "markdown",
   "metadata": {},
   "source": [
    "## Ejercicio 7"
   ]
  },
  {
   "attachments": {},
   "cell_type": "markdown",
   "metadata": {},
   "source": [
    "## Ejercicio 11"
   ]
  },
  {
   "cell_type": "markdown",
   "metadata": {},
   "source": [
    "Parque vehicular. La Ciudad de México tiene placas de automóviles con tres números seguidos \n",
    "por tres letras, es decir, son placas del tipo 999-AAA. Sin embargo, no pueden empezar con 0 \n",
    "(cero) ni se utilizan las letras I, O, Q y Ñ.\n",
    "- a) ¿Cuántas placas diferentes son posibles? \n",
    "- Las letras son 27 a excepción de 4 inutilizables, serían 23 y son 10 dígitos del 0 al 9, a excepción del primer lugar que no puede ocupar el 0.\n",
    "\n",
    "\n",
    "\n",
    "\n"
   ]
  },
  {
   "cell_type": "code",
   "execution_count": 1,
   "metadata": {},
   "outputs": [
    {
     "name": "stdout",
     "output_type": "stream",
     "text": [
      "Las posibles placas diferentes son: 10950300\n"
     ]
    }
   ],
   "source": [
    "numeros = 9 * 10 * 10\n",
    "letras = 23 * 23 * 23\n",
    "\n",
    "posibles = numeros * letras\n",
    "\n",
    "print(\"Las posibles placas diferentes son:\", posibles)"
   ]
  },
  {
   "cell_type": "markdown",
   "metadata": {},
   "source": [
    "- b)¿Cuántas placas diferentes terminan en vocal?\n",
    "\n",
    "Las vocales son 5, a excepción de 2 que no son utilizables. Por tanto solo cambia el valor de las posibilidades de la posición 6 a 3 letras (vocales) que se pueden utilizar para cumplir la indicación."
   ]
  },
  {
   "cell_type": "code",
   "execution_count": 2,
   "metadata": {},
   "outputs": [
    {
     "name": "stdout",
     "output_type": "stream",
     "text": [
      "Las posibles placas diferentes terminadas en vocal son: 1428300\n"
     ]
    }
   ],
   "source": [
    "numerosb = 9 * 10 * 10\n",
    "letrasb = 23 * 23 * 3\n",
    "\n",
    "posiblesb = numerosb * letrasb\n",
    "\n",
    "print(\"Las posibles placas diferentes terminadas en vocal son:\", posiblesb)"
   ]
  },
  {
   "attachments": {},
   "cell_type": "markdown",
   "metadata": {},
   "source": [
    "## Ejercicio 15"
   ]
  }
 ],
 "metadata": {
  "kernelspec": {
   "display_name": "Python 3",
   "language": "python",
   "name": "python3"
  },
  "language_info": {
   "codemirror_mode": {
    "name": "ipython",
    "version": 3
   },
   "file_extension": ".py",
   "mimetype": "text/x-python",
   "name": "python",
   "nbconvert_exporter": "python",
   "pygments_lexer": "ipython3",
   "version": "3.10.11"
  },
  "orig_nbformat": 4
 },
 "nbformat": 4,
 "nbformat_minor": 2
}
