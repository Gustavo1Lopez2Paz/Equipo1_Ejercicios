{
 "cells": [
  {
   "attachments": {},
   "cell_type": "markdown",
   "metadata": {},
   "source": [
    "# Ejercicios\n",
    "\n",
    "## Propietarios\n",
    "\n",
    "- Roberto Barrera Rojo (230110946@itsoeh.edu.mx)\n",
    "\n",
    "- Andrea Jacob Salas (230110449@itsoeh.edu.mx)\n",
    "\n",
    "- Kleyder Murillo Martinez (230110626@itsoeh.edu.mx)\n",
    "\n",
    "- Gustavo López Paz (230110531@itsoeh.edu.mx)\n",
    "\n",
    "- Melanie Santiago Reséndiz (230110616@itsoeh.edu.mx)"
   ]
  },
  {
   "attachments": {},
   "cell_type": "markdown",
   "metadata": {},
   "source": [
    "## Ejercicio 3"
   ]
  },
  {
   "attachments": {},
   "cell_type": "markdown",
   "metadata": {},
   "source": [
    "## Ejercicio 7"
   ]
  },
  {
   "attachments": {},
   "cell_type": "markdown",
   "metadata": {},
   "source": [
    "## Ejercicio 11"
   ]
  },
  {
   "cell_type": "markdown",
   "metadata": {},
   "source": [
    "Parque vehicular. La Ciudad de México tiene placas de automóviles con tres números seguidos \n",
    "por tres letras, es decir, son placas del tipo 999-AAA. Sin embargo, no pueden empezar con 0 \n",
    "(cero) ni se utilizan las letras I, O, Q y Ñ.\n",
    "- a) ¿Cuántas placas diferentes son posibles? para resolver el siguiente inciso ocupamos la formula de la permutacion:\n",
    "$P(n,r) = \\frac{{(n - r)!}}{{n!}}$\n",
    "seguido analizamos el problema , por lo tanto  se da solucion de la siguiente forma :\n",
    "P (9,1)X P(10,1)X P(10,1)X P(23,1)X P(23,1)X P(23,1)\n",
    "- =9X 10 X 10 X 10 X 23 X 23 X 23\n",
    "- =900 X 12167\n",
    "- =10,950,300\n",
    "\n",
    "\n",
    "- b) ¿Cuántas placas diferentes terminan en vocal?\n",
    "- c) ¿Cuál es la probabilidad de que una placa, elegida al azar, sea impar?\n",
    "- d) De acuerdo con el resultado obtenido en el inciso (a), abre un debate acerca de las conse-\n",
    "cuencias que traería consigo tener ese número de vehículos circulando en la ciudad. Además, \n",
    "realicen propuestas para mejorar los problemas de circulación vial que se viven en las grandes \n",
    "ciudades."
   ]
  },
  {
   "attachments": {},
   "cell_type": "markdown",
   "metadata": {},
   "source": [
    "## Ejercicio 15"
   ]
  }
 ],
 "metadata": {
  "language_info": {
   "name": "python"
  },
  "orig_nbformat": 4
 },
 "nbformat": 4,
 "nbformat_minor": 2
}
