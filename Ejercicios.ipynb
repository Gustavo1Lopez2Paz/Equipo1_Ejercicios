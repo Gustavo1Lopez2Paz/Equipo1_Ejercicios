{
 "cells": [
  {
   "attachments": {},
   "cell_type": "markdown",
   "metadata": {},
   "source": [
    "# Ejercicios\n",
    "\n",
    "## Propietarios\n",
    "\n",
    "- Roberto Barrera Rojo (230110946@itsoeh.edu.mx)\n",
    "\n",
    "- Andrea Jacob Salas (230110449@itsoeh.edu.mx)\n",
    "\n",
    "- Kleyder Murillo Martinez (230110626@itsoeh.edu.mx)\n",
    "\n",
    "- Gustavo López Paz (230110531@itsoeh.edu.mx)\n",
    "\n",
    "- Melanie Santiago Reséndiz (230110616@itsoeh.edu.mx)"
   ]
  },
  {
   "attachments": {},
   "cell_type": "markdown",
   "metadata": {},
   "source": [
    "## Ejercicio 3"
   ]
  },
  {
   "attachments": {},
   "cell_type": "markdown",
   "metadata": {},
   "source": [
    "## Ejercicio 7"
   ]
  },
  {
   "attachments": {},
   "cell_type": "markdown",
   "metadata": {},
   "source": [
    "## Ejercicio 11"
   ]
  },
  {
   "cell_type": "markdown",
   "metadata": {},
   "source": [
    "Parque vehicular. La Ciudad de México tiene placas de automóviles con tres números seguidos \n",
    "por tres letras, es decir, son placas del tipo 999-AAA. Sin embargo, no pueden empezar con 0 \n",
    "(cero) ni se utilizan las letras I, O, Q y Ñ.\n",
    "- a) ¿Cuántas placas diferentes son posibles? \n",
    "- para los numeros :\n",
    "c(9,3)X c(10,2)X c(10,1)\n",
    "- =84 x 45 x 10\n",
    "- =378000\n",
    "- = c (22,3)\n",
    "- =1540\n",
    "- = 1540 x 37800\n",
    "- = 58,212,000\n",
    "- b) ¿Cuántas placas diferentes terminan en vocal?\n",
    "- el primer paso para resolver el inciso b  tenemos que identificar  las vocales  A ,E , u.\n",
    "- despues obtenemos que c(22,3) x c(22,2) x  c(22,1)=\n",
    "- 1549 x 231 x  22\n",
    "- = 7,872,018\n",
    "- c) ¿Cuál es la probabilidad de que una placa, elegida al azar, sea impar?\n",
    "- primero tenemos que identificar los numeros impares (1, 3, 5, 7 y 9)\n",
    "- c (5,3)\n",
    "- =10 / 58,212,00\n",
    "- casos favorables / casos totales\n",
    "- = 1 / 5,821,200 = 0.00001717858860716%.\n",
    "- d) De acuerdo con el resultado obtenido en el inciso (a), abre un debate acerca de las conse-\n",
    "cuencias que traería consigo tener ese número de vehículos circulando en la ciudad. Además, \n",
    "realicen propuestas para mejorar los problemas de circulación vial que se viven en las grandes \n",
    "ciudades.\n",
    "# Consecuencias:\n",
    "- trafico\n",
    "- contaminacion\n",
    "-accidentes\n",
    "# Mejoras:\n",
    "- promover el uso de la bicileta\n",
    "- tener buenos paisajes y aire fresco\n",
    "\n",
    "\n",
    "\n"
   ]
  },
  {
   "attachments": {},
   "cell_type": "markdown",
   "metadata": {},
   "source": [
    "## Ejercicio 15"
   ]
  }
 ],
 "metadata": {
  "language_info": {
   "name": "python"
  },
  "orig_nbformat": 4
 },
 "nbformat": 4,
 "nbformat_minor": 2
}
