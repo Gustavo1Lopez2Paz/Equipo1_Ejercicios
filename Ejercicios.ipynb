{
 "cells": [
  {
   "attachments": {},
   "cell_type": "markdown",
   "metadata": {},
   "source": [
    "# Ejercicios\n",
    "\n",
    "## Propietarios\n",
    "\n",
    "- Roberto Barrera Rojo (230110946@itsoeh.edu.mx)\n",
    "\n",
    "- Andrea Jacob Salas (230110449@itsoeh.edu.mx)\n",
    "\n",
    "- Kleyder Murillo Martinez (230110626@itsoeh.edu.mx)\n",
    "\n",
    "- Gustavo López Paz (230110531@itsoeh.edu.mx)\n",
    "\n",
    "- Melanie Santiago Reséndiz (230110616@itsoeh.edu.mx)"
   ]
  },
  {
   "attachments": {},
   "cell_type": "markdown",
   "metadata": {},
   "source": [
    "## Ejercicio 3"
   ]
  },
  {
   "attachments": {},
   "cell_type": "markdown",
   "metadata": {},
   "source": [
    "## Ejercicio 7"
   ]
  },
  {
   "attachments": {},
   "cell_type": "markdown",
   "metadata": {},
   "source": [
    "## Ejercicio 11"
   ]
  },
  {
   "cell_type": "markdown",
   "metadata": {},
   "source": [
    "Parque vehicular. La Ciudad de México tiene placas de automóviles con tres números seguidos \n",
    "por tres letras, es decir, son placas del tipo 999-AAA. Sin embargo, no pueden empezar con 0 \n",
    "(cero) ni se utilizan las letras I, O, Q y Ñ.\n",
    "- a) ¿Cuántas placas diferentes son posibles? para resolver el siguiente inciso ocupamos la formula de la permutacion:\n",
    "$P(n,r) = \\frac{{(n - r)!}}{{n!}}$\n",
    "seguido analizamos el problema , por lo tanto  se da solucion de la siguiente forma :\n",
    "P (9,1)X P(10,1)X P(10,1)X P(23,1)X P(23,1)X P(23,1)\n",
    "- =9X 10 X 10 X 10 X 23 X 23 X 23\n",
    "- =900 X 12167\n",
    "- =10,950,300\n",
    "- b) ¿Cuántas placas diferentes terminan en vocal?\n",
    "- el primer paso para resolver el inciso b  tenemos que identificar  las vocales  A ,E , I, O ,U .\n",
    "- despues obtenemos que p(9,1) x  p(10,1) x  p(10,1) x p(5,1) =4500\n",
    "- c) ¿Cuál es la probabilidad de que una placa, elegida al azar, sea impar?\n",
    "- primero tenemos que identificar los numeros impares (1, 3, 5, 7 y 9)\n",
    "- quedaria como: P(5,1)×P(10,1)×P(10,1)×P(23,3)\n",
    "- =5×10×10×23×22×21\n",
    "- = 1,449,000\n",
    "- para calcular la probabilidad tenermos que tener en cuenta que= Numero total de placas posibles/Numero de placas impares\n",
    "​- por lo tanto tenemos que = 10,950,300/1,449,000\n",
    "​- Probabilidad≈0.1325= 13.25%\n",
    "- d) De acuerdo con el resultado obtenido en el inciso (a), abre un debate acerca de las conse-\n",
    "cuencias que traería consigo tener ese número de vehículos circulando en la ciudad. Además, \n",
    "realicen propuestas para mejorar los problemas de circulación vial que se viven en las grandes \n",
    "ciudades.\n",
    "# Consecuencias:\n",
    "- trafico\n",
    "- contaminacion\n",
    "-accidentes\n",
    "# Mejoras:\n",
    "- promover el uso de la bicileta\n",
    "- tener buenos paisajes y aire fresco\n",
    "\n",
    "\n",
    "\n"
   ]
  },
  {
   "attachments": {},
   "cell_type": "markdown",
   "metadata": {},
   "source": [
    "## Ejercicio 15"
   ]
  }
 ],
 "metadata": {
  "language_info": {
   "name": "python"
  },
  "orig_nbformat": 4
 },
 "nbformat": 4,
 "nbformat_minor": 2
}
