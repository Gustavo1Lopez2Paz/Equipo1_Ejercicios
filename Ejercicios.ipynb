{
 "cells": [
  {
   "attachments": {},
   "cell_type": "markdown",
   "metadata": {},
   "source": [
    "# Ejercicios\n",
    "\n",
    "## Propietarios\n",
    "\n",
    "- Roberto Barrera Rojo (230110946@itsoeh.edu.mx)\n",
    "\n",
    "- Andrea Jacob Salas (230110449@itsoeh.edu.mx)\n",
    "\n",
    "- Kleyder Murillo Martinez (230110626@itsoeh.edu.mx)\n",
    "\n",
    "- Gustavo López Paz (230110531@itsoeh.edu.mx)\n",
    "\n",
    "- Melanie Santiago Reséndiz (230110616@itsoeh.edu.mx)"
   ]
  },
  {
   "attachments": {},
   "cell_type": "markdown",
   "metadata": {},
   "source": [
    "## Ejercicio 3"
   ]
  },
  {
   "attachments": {},
   "cell_type": "markdown",
   "metadata": {},
   "source": [
    "## Ejercicio 7"
   ]
  },
  {
   "attachments": {},
   "cell_type": "markdown",
   "metadata": {},
   "source": [
    "- a. Calcular $\\sum_{r=0}^{0} \\frac{0!}{r!(0-r)!} = \\frac{0!}{0!(0-0)!} = 1$\n",
    "\n",
    "- b. Calcular $\\sum_{r=0}^{1} \\frac{1!}{r!(1-r)!} = \\frac{1!}{0!(1-0)!} + \\frac{1!}{1!(1-1)!} = 1 + 1 = 2$\n",
    "\n",
    "- c. Calcular $\\sum_{r=0}^{2} \\frac{2!}{r!(2-r)!} = \\frac{2!}{0!(2-0)!} + \\frac{2!}{1!(2-1)!} + \\frac{2!}{2!(2-2)!} = 1 + 2 + 1 = 4$\n",
    "\n",
    "- d. Calcular $\\sum_{r=0}^{3} \\frac{3!}{r!(3-r)!} = \\frac{3!}{0!(3-0)!} + \\frac{3!}{1!(3-1)!} + \\frac{3!}{2!(3-2)!} + \\frac{3!}{3!(3-3)!} = 1 + 3 + 3 + 1 = 8$\n",
    "\n",
    "- e. Calcular $\\sum_{r=0}^{4} \\frac{4!}{r!(4-r)!} = \\frac{4!}{0!(4-0)!} + \\frac{4!}{1!(4-1)!} + \\frac{4!}{2!(4-2)!} + \\frac{4!}{3!(4-3)!} + \\frac{4!}{4!(4-4)!} = 1 + 4 + 6 + 4 + 1 = 16$\n",
    "\n",
    "- f. Calcular $\\sum_{r=0}^{5} \\frac{5!}{r!(5-r)!} = \\frac{5!}{0!(5-0)!} + \\frac{5!}{1!(5-1)!} + \\frac{5!}{2!(5-2)!} + \\frac{5!}{3!(5-3)!} + \\frac{5!}{4!(5-4)!} + \\frac{5!}{5!(5-5)!} = 1 + 5 + 10 + 10 + 5 + 1 = 32$"
   ]
  },
  {
   "attachments": {},
   "cell_type": "markdown",
   "metadata": {},
   "source": [
    "- g. Calcular la suma de todos los valores"
   ]
  },
  {
   "cell_type": "code",
   "execution_count": 39,
   "metadata": {},
   "outputs": [
    {
     "name": "stdout",
     "output_type": "stream",
     "text": [
      "Para n = 0 la suma es: 1\n",
      "Para n = 1 la suma es: 2\n",
      "Para n = 2 la suma es: 4\n",
      "Para n = 3 la suma es: 8\n",
      "Para n = 4 la suma es: 16\n",
      "Para n = 5 la suma es: 32\n",
      "\n",
      "La sumatoria de todos los coeficientes desde n n=0 a n=5 es: 63\n"
     ]
    }
   ],
   "source": [
    "import math\n",
    "suma_total = 0\n",
    "\n",
    "for n in range(6):\n",
    "    suma = 0\n",
    "    for r in range(n+1):\n",
    "        coeficiente = math.comb(n, r)\n",
    "        suma += coeficiente\n",
    "    print(\"Para n =\", n, \"la suma es:\", suma)\n",
    "    suma_total += suma\n",
    "\n",
    "print(f\"\\nLa sumatoria de todos los coeficientes desde n n=0 a n=5 es: {suma_total}\")"
   ]
  },
  {
   "attachments": {},
   "cell_type": "markdown",
   "metadata": {},
   "source": [
    "## Ejercicio 11"
   ]
  },
  {
   "cell_type": "markdown",
   "metadata": {},
   "source": [
    "Parque vehicular. La Ciudad de México tiene placas de automóviles con tres números seguidos \n",
    "por tres letras, es decir, son placas del tipo 999-AAA. Sin embargo, no pueden empezar con 0 \n",
    "(cero) ni se utilizan las letras I, O, Q y Ñ.\n",
    "- a) ¿Cuántas placas diferentes son posibles? para resolver el siguiente inciso ocupamos la formula de la permutacion:\n",
    "$P(n,r) = \\frac{{(n - r)!}}{{n!}}$\n",
    "seguido analizamos el problema , por lo tanto  se da solucion de la siguiente forma :\n",
    "P (9,1)X P(10,1)X P(10,1)X P(23,1)X P(23,1)X P(23,1)\n",
    "- =9X 10 X 10 X 10 X 23 X 23 X 23\n",
    "- =900 X 12167\n",
    "- =10,950,300\n",
    "- b) ¿Cuántas placas diferentes terminan en vocal?\n",
    "- el primer paso para resolver el inciso b  tenemos que identificar  las vocales  A ,E , I, O ,U .\n",
    "- despues obtenemos que p(9,1) x  p(10,1) x  p(10,1) x p(5,1) =4500\n",
    "- c) ¿Cuál es la probabilidad de que una placa, elegida al azar, sea impar?\n",
    "- primero tenemos que identificar los numeros impares (1, 3, 5, 7 y 9)\n",
    "- quedaria como: P(5,1)×P(10,1)×P(10,1)×P(23,3)\n",
    "- =5×10×10×23×22×21\n",
    "- = 1,449,000\n",
    "- para calcular la probabilidad tenermos que tener en cuenta que= Numero total de placas posibles/Numero de placas impares\n",
    "​- por lo tanto tenemos que = 10,950,300/1,449,000\n",
    "​- Probabilidad≈0.1325= 13.25%\n",
    "- d) De acuerdo con el resultado obtenido en el inciso (a), abre un debate acerca de las conse-\n",
    "cuencias que traería consigo tener ese número de vehículos circulando en la ciudad. Además, \n",
    "realicen propuestas para mejorar los problemas de circulación vial que se viven en las grandes \n",
    "ciudades.\n",
    "# Consecuencias:\n",
    "- trafico\n",
    "- contaminacion\n",
    "-accidentes\n",
    "# Mejoras:\n",
    "- promover el uso de la bicileta\n",
    "- tener buenos paisajes y aire fresco\n",
    "\n",
    "\n",
    "\n"
   ]
  },
  {
   "attachments": {},
   "cell_type": "markdown",
   "metadata": {},
   "source": [
    "## Ejercicio 15"
   ]
  }
 ],
 "metadata": {
  "kernelspec": {
   "display_name": "Python 3",
   "language": "python",
   "name": "python3"
  },
  "language_info": {
   "codemirror_mode": {
    "name": "ipython",
    "version": 3
   },
   "file_extension": ".py",
   "mimetype": "text/x-python",
   "name": "python",
   "nbconvert_exporter": "python",
   "pygments_lexer": "ipython3",
   "version": "3.12.0"
  },
  "orig_nbformat": 4
 },
 "nbformat": 4,
 "nbformat_minor": 2
}
