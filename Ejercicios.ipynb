{
 "cells": [
  {
   "attachments": {},
   "cell_type": "markdown",
   "metadata": {},
   "source": [
    "# Ejercicios\n",
    "\n",
    "## Propietarios\n",
    "\n",
    "- Roberto Barrera Rojo (230110946@itsoeh.edu.mx)\n",
    "\n",
    "- Andrea Jacob Salas (230110449@itsoeh.edu.mx)\n",
    "\n",
    "- Kleyder Murillo Martinez (230110626@itsoeh.edu.mx)\n",
    "\n",
    "- Gustavo López Paz (230110531@itsoeh.edu.mx)\n",
    "\n",
    "- Melanie Santiago Reséndiz (230110616@itsoeh.edu.mx)"
   ]
  },
  {
   "attachments": {},
   "cell_type": "markdown",
   "metadata": {},
   "source": [
    "## Ejercicio 3"
   ]
  },
  {
   "attachments": {},
   "cell_type": "markdown",
   "metadata": {},
   "source": [
    "## Ejercicio 7"
   ]
  },
  {
   "attachments": {},
   "cell_type": "markdown",
   "metadata": {},
   "source": [
    "## Ejercicio 11"
   ]
  },
  {
   "attachments": {},
   "cell_type": "markdown",
   "metadata": {},
   "source": [
    "## Ejercicio 15"
   ]
  }
 ],
 "metadata": {
  "language_info": {
   "name": "python"
  },
  "orig_nbformat": 4
 },
 "nbformat": 4,
 "nbformat_minor": 2
}
